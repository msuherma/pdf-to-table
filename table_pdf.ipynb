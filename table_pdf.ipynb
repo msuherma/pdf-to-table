{
 "cells": [
  {
   "cell_type": "code",
   "execution_count": 15,
   "metadata": {},
   "outputs": [],
   "source": [
    "from tabula import read_pdf\n",
    "import tabulate as tblt"
   ]
  },
  {
   "cell_type": "code",
   "execution_count": 16,
   "metadata": {},
   "outputs": [],
   "source": [
    "url = \"https://gatrik.esdm.go.id/assets/uploads/download_index/files/2242b-statistik-ketenagalistrikan-2019.pdf\""
   ]
  },
  {
   "cell_type": "code",
   "execution_count": 17,
   "metadata": {},
   "outputs": [
    {
     "name": "stderr",
     "output_type": "stream",
     "text": [
      "'pages' argument isn't specified.Will extract only from page 1 by default.\n"
     ]
    },
    {
     "name": "stdout",
     "output_type": "stream",
     "text": [
      "[]\n"
     ]
    }
   ],
   "source": [
    "try:\n",
    "    df = read_pdf(url)\n",
    "    print(df)\n",
    "except Exception as e:\n",
    "    print(e)"
   ]
  },
  {
   "cell_type": "code",
   "execution_count": 3,
   "metadata": {},
   "outputs": [],
   "source": [
    "#tbl.convert_into(file,\"statistik_ketenagalistrikan_2019.csv\",all = True)"
   ]
  },
  {
   "cell_type": "code",
   "execution_count": 19,
   "metadata": {},
   "outputs": [],
   "source": [
    "df = read_pdf(\"raw_source_file/stats_gatrik_2019.pdf\", pages=[25])"
   ]
  },
  {
   "cell_type": "code",
   "execution_count": 20,
   "metadata": {},
   "outputs": [
    {
     "data": {
      "text/plain": [
       "[        PLTA    PLTM   PLTMH    PLTB   PLTBg     PLTBm      PLTP   PLTS  \\\n",
       " 0          -    2,44    2,01       -       -         -         -   0,13   \n",
       " 1     930,00   54,00    7,95       -    8,40    127,50    342,00   0,38   \n",
       " 2     253,50   26,40    1,15       -    1,20         -         -   1,40   \n",
       " 3     114,00       -    0,06       -   29,94  1.249,44         -   0,80   \n",
       " 4          -       -       -       -    1,00         -         -   1,43   \n",
       " 5     256,17    1,60    6,00       -    3,06         -         -   0,25   \n",
       " 6          -    0,10    0,92       -   16,20     30,00         -   0,53   \n",
       " 7          -       -   11,86       -    8,00      4,80         -   2,52   \n",
       " 8          -       -       -       -   15,12     59,84         -   1,49   \n",
       " 9     174,60       -    0,08       -       -     55,12    220,00   1,13   \n",
       " 10         -   14,00       -       -       -         -         -   0,06   \n",
       " 11         -       -       -       -       -         -         -   0,02   \n",
       " 12  1.985,36   85,48    0,02       -       -         -  1.193,80   0,08   \n",
       " 13    322,14    9,99    5,26       -       -     19,80     60,00   0,17   \n",
       " 14         -       -    1,00       -       -      3,80         -   0,02   \n",
       " 15    291,70    1,33    2,05       -    2,00    143,54         -   0,17   \n",
       " 16         -       -    2,53    1,38       -         -         -   4,27   \n",
       " 17    232,24       -    2,71       -    2,00     22,00         -   1,51   \n",
       " 18         -       -    0,30       -    7,40     10,00         -   0,64   \n",
       " 19     30,00       -       -       -    5,30      4,00         -   0,23   \n",
       " 20         -       -       -       -    9,00     11,00         -   1,05   \n",
       " 21         -       -    0,09       -       -         -         -   1,67   \n",
       " 22     51,38    8,25    0,01    0,08       -         -    120,00   1,34   \n",
       " 23         -    6,20    0,10       -       -      0,50         -   2,35   \n",
       " 24    195,00   26,70    0,02       -       -         -         -   0,19   \n",
       " 25         -    8,10    0,17       -       -         -         -   0,25   \n",
       " 26    513,50    1,62   42,23  142,05       -     17,20         -   5,29   \n",
       " 27         -    4,15    0,02       -       -         -         -   1,94   \n",
       " 28         -    2,80   12,64       -       -         -         -   2,34   \n",
       " 29         -    6,58    0,22       -       -         -     12,50   9,26   \n",
       " 30         -       -    0,04       -       -         -         -   1,92   \n",
       " 31         -       -       -       -       -         -         -   0,19   \n",
       " 32     20,00    4,46    1,99       -       -         -         -   9,73   \n",
       " 33         -    3,60    3,38       -       -         -         -   5,49   \n",
       " 34  5.369,59  267,79  104,76  143,51  108,62  1.758,54  1.948,30  60,19   \n",
       " \n",
       "     PLTSa PLT\\rHybrid     Jumlah  \n",
       " 0       -        0,70     706,80  \n",
       " 1       -           -   4.016,65  \n",
       " 2       -           -     791,32  \n",
       " 3       -        0,30   2.491,91  \n",
       " 4       -        0,35     872,91  \n",
       " 5       -           -     301,80  \n",
       " 6       -           -     484,48  \n",
       " 7       -           -   2.217,42  \n",
       " 8       -           -     429,83  \n",
       " 9       -           -   1.103,84  \n",
       " 10      -           -   8.037,00  \n",
       " 11      -           -   4.184,60  \n",
       " 12  14,00           -   9.851,42  \n",
       " 13      -           -   7.016,66  \n",
       " 14      -        0,02       4,84  \n",
       " 15   1,65           -  10.349,22  \n",
       " 16      -           -   1.066,76  \n",
       " 17      -        0,15     900,87  \n",
       " 18      -           -     529,83  \n",
       " 19      -           -     664,84  \n",
       " 20      -        0,15   1.255,82  \n",
       " 21      -        0,75     248,44  \n",
       " 22      -           -     548,25  \n",
       " 23      -           -     159,24  \n",
       " 24      -           -   1.687,64  \n",
       " 25      -           -      76,33  \n",
       " 26      -           -   2.328,41  \n",
       " 27      -           -     421,67  \n",
       " 28      -        0,02     612,49  \n",
       " 29      -        0,14     413,54  \n",
       " 30      -        0,45     268,96  \n",
       " 31      -        0,35     183,01  \n",
       " 32      -        0,20     544,96  \n",
       " 33      -           -     153,08  \n",
       " 34  15,65        3,58  64.924,80  ]"
      ]
     },
     "execution_count": 20,
     "metadata": {},
     "output_type": "execute_result"
    }
   ],
   "source": [
    "df"
   ]
  },
  {
   "cell_type": "code",
   "execution_count": null,
   "metadata": {},
   "outputs": [],
   "source": []
  }
 ],
 "metadata": {
  "kernelspec": {
   "display_name": "Python 3",
   "language": "python",
   "name": "python3"
  },
  "language_info": {
   "codemirror_mode": {
    "name": "ipython",
    "version": 3
   },
   "file_extension": ".py",
   "mimetype": "text/x-python",
   "name": "python",
   "nbconvert_exporter": "python",
   "pygments_lexer": "ipython3",
   "version": "3.8.2"
  }
 },
 "nbformat": 4,
 "nbformat_minor": 4
}
