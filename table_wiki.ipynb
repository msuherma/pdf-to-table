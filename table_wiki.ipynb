{
 "cells": [
  {
   "cell_type": "markdown",
   "metadata": {},
   "source": [
    "# Converting Tables from Wikipedia\n",
    "\n",
    "This code is used to convert table in wikipedia into csv format\n",
    "I learn how to make this code form [Wiki scrap](https://github.com/softhints/python/blob/master/notebooks/Scrape%20wiki%20tables%20with%20pandas%20and%20python.ipynb) and [using tabula](http://theautomatic.net/2019/05/24/3-ways-to-scrape-tables-from-pdfs-with-python/)."
   ]
  },
  {
   "cell_type": "code",
   "execution_count": 39,
   "metadata": {},
   "outputs": [],
   "source": [
    "from pandas.io.html import read_html\n",
    "import numpy as np\n",
    "\n",
    "url = 'https://id.wikipedia.org/wiki/Daftar_pembangkit_listrik_di_Indonesia'\n",
    "wikitables = read_html(url, attrs={\"class\":\"wikitable\"})"
   ]
  },
  {
   "cell_type": "code",
   "execution_count": 24,
   "metadata": {},
   "outputs": [
    {
     "name": "stdout",
     "output_type": "stream",
     "text": [
      "Extracted 11 wikitables\n"
     ]
    }
   ],
   "source": [
    "print (\"Extracted {num} wikitables\".format(num=len(wikitables)))"
   ]
  },
  {
   "cell_type": "code",
   "execution_count": 25,
   "metadata": {},
   "outputs": [],
   "source": [
    "nuklir_pp = wikitables[0]"
   ]
  },
  {
   "cell_type": "code",
   "execution_count": 26,
   "metadata": {},
   "outputs": [],
   "source": [
    "fossil_pp = wikitables[1]"
   ]
  },
  {
   "cell_type": "code",
   "execution_count": 27,
   "metadata": {},
   "outputs": [],
   "source": [
    "gas_pp = wikitables[2]"
   ]
  },
  {
   "cell_type": "code",
   "execution_count": 28,
   "metadata": {},
   "outputs": [],
   "source": [
    "diesel_pp = wikitables[3]"
   ]
  },
  {
   "cell_type": "code",
   "execution_count": 29,
   "metadata": {},
   "outputs": [],
   "source": [
    "geothermal_pp = wikitables[4]"
   ]
  },
  {
   "cell_type": "code",
   "execution_count": 13,
   "metadata": {},
   "outputs": [
    {
     "data": {
      "text/html": [
       "<div>\n",
       "<style scoped>\n",
       "    .dataframe tbody tr th:only-of-type {\n",
       "        vertical-align: middle;\n",
       "    }\n",
       "\n",
       "    .dataframe tbody tr th {\n",
       "        vertical-align: top;\n",
       "    }\n",
       "\n",
       "    .dataframe thead th {\n",
       "        text-align: right;\n",
       "    }\n",
       "</style>\n",
       "<table border=\"1\" class=\"dataframe\">\n",
       "  <thead>\n",
       "    <tr style=\"text-align: right;\">\n",
       "      <th></th>\n",
       "      <th>Nama</th>\n",
       "      <th>Lokasi</th>\n",
       "      <th>Kecamatan</th>\n",
       "      <th>Kabupaten/Kota</th>\n",
       "      <th>Provinsi</th>\n",
       "      <th>Koordinat</th>\n",
       "      <th>Tipe</th>\n",
       "      <th>Kapasitas</th>\n",
       "      <th>Jenis dan jumlah pembangkit</th>\n",
       "      <th>Operator</th>\n",
       "      <th>Sektor</th>\n",
       "    </tr>\n",
       "  </thead>\n",
       "  <tbody>\n",
       "    <tr>\n",
       "      <th>0</th>\n",
       "      <td>PLTP Geo Dipa Unit Dieng</td>\n",
       "      <td>NaN</td>\n",
       "      <td>Dieng</td>\n",
       "      <td>Kabupaten Wonosobo</td>\n",
       "      <td>Jawa Tengah</td>\n",
       "      <td>NaN</td>\n",
       "      <td>NaN</td>\n",
       "      <td>1 x 60 MW</td>\n",
       "      <td>PLTP total 1 unit 60 MW</td>\n",
       "      <td>NaN</td>\n",
       "      <td>NaN</td>\n",
       "    </tr>\n",
       "    <tr>\n",
       "      <th>1</th>\n",
       "      <td>PLTP Gunung Salak</td>\n",
       "      <td>NaN</td>\n",
       "      <td>NaN</td>\n",
       "      <td>Sukabumi</td>\n",
       "      <td>Jawa Barat</td>\n",
       "      <td>NaN</td>\n",
       "      <td>NaN</td>\n",
       "      <td>3 x 60, 3 x 65,5</td>\n",
       "      <td>6 Turbin PLTP total 377Mw</td>\n",
       "      <td>NaN</td>\n",
       "      <td>NaN</td>\n",
       "    </tr>\n",
       "    <tr>\n",
       "      <th>2</th>\n",
       "      <td>PLTP Kamojang</td>\n",
       "      <td>NaN</td>\n",
       "      <td>NaN</td>\n",
       "      <td>Garut</td>\n",
       "      <td>Jawa Barat</td>\n",
       "      <td>NaN</td>\n",
       "      <td>NaN</td>\n",
       "      <td>350 MW</td>\n",
       "      <td>5 Unit PLTP</td>\n",
       "      <td>NaN</td>\n",
       "      <td>NaN</td>\n",
       "    </tr>\n",
       "    <tr>\n",
       "      <th>3</th>\n",
       "      <td>PLTP Wayang Windu</td>\n",
       "      <td>NaN</td>\n",
       "      <td>NaN</td>\n",
       "      <td>Pangalengan</td>\n",
       "      <td>Jawa Barat</td>\n",
       "      <td>NaN</td>\n",
       "      <td>NaN</td>\n",
       "      <td>371 Mw</td>\n",
       "      <td>PLTP</td>\n",
       "      <td>NaN</td>\n",
       "      <td>NaN</td>\n",
       "    </tr>\n",
       "  </tbody>\n",
       "</table>\n",
       "</div>"
      ],
      "text/plain": [
       "                       Nama  Lokasi Kecamatan      Kabupaten/Kota  \\\n",
       "0  PLTP Geo Dipa Unit Dieng     NaN     Dieng  Kabupaten Wonosobo   \n",
       "1         PLTP Gunung Salak     NaN       NaN            Sukabumi   \n",
       "2             PLTP Kamojang     NaN       NaN               Garut   \n",
       "3         PLTP Wayang Windu     NaN       NaN         Pangalengan   \n",
       "\n",
       "      Provinsi  Koordinat  Tipe         Kapasitas Jenis dan jumlah pembangkit  \\\n",
       "0  Jawa Tengah        NaN   NaN         1 x 60 MW     PLTP total 1 unit 60 MW   \n",
       "1   Jawa Barat        NaN   NaN  3 x 60, 3 x 65,5   6 Turbin PLTP total 377Mw   \n",
       "2   Jawa Barat        NaN   NaN            350 MW                 5 Unit PLTP   \n",
       "3   Jawa Barat        NaN   NaN            371 Mw                        PLTP   \n",
       "\n",
       "   Operator  Sektor  \n",
       "0       NaN     NaN  \n",
       "1       NaN     NaN  \n",
       "2       NaN     NaN  \n",
       "3       NaN     NaN  "
      ]
     },
     "execution_count": 13,
     "metadata": {},
     "output_type": "execute_result"
    }
   ],
   "source": []
  },
  {
   "cell_type": "code",
   "execution_count": 30,
   "metadata": {},
   "outputs": [],
   "source": [
    "solar_pp = wikitables[5]"
   ]
  },
  {
   "cell_type": "code",
   "execution_count": 31,
   "metadata": {},
   "outputs": [],
   "source": [
    "solar_plan_pp = wikitables[6]"
   ]
  },
  {
   "cell_type": "code",
   "execution_count": 32,
   "metadata": {},
   "outputs": [],
   "source": [
    "hydro_pp = wikitables[7]"
   ]
  },
  {
   "cell_type": "code",
   "execution_count": 33,
   "metadata": {},
   "outputs": [],
   "source": [
    "hydro_plan_pp = wikitables[8]"
   ]
  },
  {
   "cell_type": "code",
   "execution_count": 34,
   "metadata": {},
   "outputs": [],
   "source": [
    "wind_pp = wikitables[9]"
   ]
  },
  {
   "cell_type": "code",
   "execution_count": 35,
   "metadata": {},
   "outputs": [
    {
     "data": {
      "text/html": [
       "<div>\n",
       "<style scoped>\n",
       "    .dataframe tbody tr th:only-of-type {\n",
       "        vertical-align: middle;\n",
       "    }\n",
       "\n",
       "    .dataframe tbody tr th {\n",
       "        vertical-align: top;\n",
       "    }\n",
       "\n",
       "    .dataframe thead th {\n",
       "        text-align: right;\n",
       "    }\n",
       "</style>\n",
       "<table border=\"1\" class=\"dataframe\">\n",
       "  <thead>\n",
       "    <tr style=\"text-align: right;\">\n",
       "      <th></th>\n",
       "      <th>Nama</th>\n",
       "      <th>Lokasi</th>\n",
       "      <th>Kecamatan</th>\n",
       "      <th>Kabupaten/Kota</th>\n",
       "      <th>Provinsi</th>\n",
       "      <th>Koordinat</th>\n",
       "      <th>Mulai Beroperasi</th>\n",
       "      <th>Unit</th>\n",
       "      <th>Kapasitas</th>\n",
       "      <th>Tipe</th>\n",
       "      <th>Manufaktur Turbin Angin</th>\n",
       "      <th>Operator</th>\n",
       "      <th>Sektor</th>\n",
       "      <th>Catatan</th>\n",
       "    </tr>\n",
       "  </thead>\n",
       "  <tbody>\n",
       "    <tr>\n",
       "      <th>0</th>\n",
       "      <td>PLTB Nusa Penida</td>\n",
       "      <td>Pulau Nusa Penida</td>\n",
       "      <td>Nusa Penida</td>\n",
       "      <td>Klungkung</td>\n",
       "      <td>Bali</td>\n",
       "      <td>-8.73132/115.53113</td>\n",
       "      <td>13 November 2007-2008</td>\n",
       "      <td>9</td>\n",
       "      <td>720 kW</td>\n",
       "      <td>Horizontal</td>\n",
       "      <td>NaN</td>\n",
       "      <td>NaN</td>\n",
       "      <td>NaN</td>\n",
       "      <td>Terbengkalai dan rusak[7]</td>\n",
       "    </tr>\n",
       "    <tr>\n",
       "      <th>1</th>\n",
       "      <td>PLTB Sidrap</td>\n",
       "      <td>Desa Mattirotasi, Maros</td>\n",
       "      <td>Watang Pulu</td>\n",
       "      <td>Sidenreng Rappang</td>\n",
       "      <td>Sulawesi Selatan</td>\n",
       "      <td>-3.9764/119.7148</td>\n",
       "      <td>5 April 2018</td>\n",
       "      <td>30x2.5</td>\n",
       "      <td>75 MW</td>\n",
       "      <td>Horizontal</td>\n",
       "      <td>Siemens</td>\n",
       "      <td>NaN</td>\n",
       "      <td>NaN</td>\n",
       "      <td>NaN</td>\n",
       "    </tr>\n",
       "    <tr>\n",
       "      <th>2</th>\n",
       "      <td>PLTB Tolo 1 Jeneponto</td>\n",
       "      <td>Tolo</td>\n",
       "      <td>Binamu</td>\n",
       "      <td>Jeneponto</td>\n",
       "      <td>Sulawesi Selatan</td>\n",
       "      <td>-5.63086/119.76886</td>\n",
       "      <td>21 November 2018</td>\n",
       "      <td>20x3.6</td>\n",
       "      <td>72 MW</td>\n",
       "      <td>Horizontal</td>\n",
       "      <td>NaN</td>\n",
       "      <td>NaN</td>\n",
       "      <td>NaN</td>\n",
       "      <td>NaN</td>\n",
       "    </tr>\n",
       "  </tbody>\n",
       "</table>\n",
       "</div>"
      ],
      "text/plain": [
       "                    Nama                   Lokasi    Kecamatan  \\\n",
       "0       PLTB Nusa Penida        Pulau Nusa Penida  Nusa Penida   \n",
       "1            PLTB Sidrap  Desa Mattirotasi, Maros  Watang Pulu   \n",
       "2  PLTB Tolo 1 Jeneponto                     Tolo       Binamu   \n",
       "\n",
       "      Kabupaten/Kota          Provinsi           Koordinat  \\\n",
       "0          Klungkung              Bali  -8.73132/115.53113   \n",
       "1  Sidenreng Rappang  Sulawesi Selatan    -3.9764/119.7148   \n",
       "2          Jeneponto  Sulawesi Selatan  -5.63086/119.76886   \n",
       "\n",
       "        Mulai Beroperasi    Unit Kapasitas        Tipe  \\\n",
       "0  13 November 2007-2008       9    720 kW  Horizontal   \n",
       "1           5 April 2018  30x2.5     75 MW  Horizontal   \n",
       "2       21 November 2018  20x3.6     72 MW  Horizontal   \n",
       "\n",
       "  Manufaktur Turbin Angin  Operator  Sektor                    Catatan  \n",
       "0                     NaN       NaN     NaN  Terbengkalai dan rusak[7]  \n",
       "1                 Siemens       NaN     NaN                        NaN  \n",
       "2                     NaN       NaN     NaN                        NaN  "
      ]
     },
     "execution_count": 35,
     "metadata": {},
     "output_type": "execute_result"
    }
   ],
   "source": [
    "wind_pp"
   ]
  },
  {
   "cell_type": "code",
   "execution_count": 36,
   "metadata": {},
   "outputs": [],
   "source": [
    "a = wikitables[10]"
   ]
  },
  {
   "cell_type": "code",
   "execution_count": 37,
   "metadata": {},
   "outputs": [
    {
     "data": {
      "text/html": [
       "<div>\n",
       "<style scoped>\n",
       "    .dataframe tbody tr th:only-of-type {\n",
       "        vertical-align: middle;\n",
       "    }\n",
       "\n",
       "    .dataframe tbody tr th {\n",
       "        vertical-align: top;\n",
       "    }\n",
       "\n",
       "    .dataframe thead th {\n",
       "        text-align: right;\n",
       "    }\n",
       "</style>\n",
       "<table border=\"1\" class=\"dataframe\">\n",
       "  <thead>\n",
       "    <tr style=\"text-align: right;\">\n",
       "      <th></th>\n",
       "      <th>Nama</th>\n",
       "      <th>Lokasi</th>\n",
       "      <th>Kecamatan</th>\n",
       "      <th>Kabupaten/Kota</th>\n",
       "      <th>Provinsi</th>\n",
       "      <th>Koordinat</th>\n",
       "      <th>Unit</th>\n",
       "      <th>Kapasitas</th>\n",
       "      <th>Tipe</th>\n",
       "      <th>Mulai Beroperasi</th>\n",
       "    </tr>\n",
       "  </thead>\n",
       "  <tbody>\n",
       "  </tbody>\n",
       "</table>\n",
       "</div>"
      ],
      "text/plain": [
       "Empty DataFrame\n",
       "Columns: [Nama, Lokasi, Kecamatan, Kabupaten/Kota, Provinsi, Koordinat, Unit, Kapasitas, Tipe, Mulai Beroperasi]\n",
       "Index: []"
      ]
     },
     "execution_count": 37,
     "metadata": {},
     "output_type": "execute_result"
    }
   ],
   "source": [
    "a"
   ]
  },
  {
   "cell_type": "code",
   "execution_count": 38,
   "metadata": {},
   "outputs": [
    {
     "ename": "IndexError",
     "evalue": "list index out of range",
     "output_type": "error",
     "traceback": [
      "\u001b[0;31m---------------------------------------------------------------------------\u001b[0m",
      "\u001b[0;31mIndexError\u001b[0m                                Traceback (most recent call last)",
      "\u001b[0;32m<ipython-input-38-765976c98c29>\u001b[0m in \u001b[0;36m<module>\u001b[0;34m\u001b[0m\n\u001b[0;32m----> 1\u001b[0;31m \u001b[0mb\u001b[0m \u001b[0;34m=\u001b[0m \u001b[0mwikitables\u001b[0m \u001b[0;34m[\u001b[0m\u001b[0;36m11\u001b[0m\u001b[0;34m]\u001b[0m\u001b[0;34m\u001b[0m\u001b[0;34m\u001b[0m\u001b[0m\n\u001b[0m",
      "\u001b[0;31mIndexError\u001b[0m: list index out of range"
     ]
    }
   ],
   "source": [
    "b = wikitables [11]"
   ]
  },
  {
   "cell_type": "code",
   "execution_count": 43,
   "metadata": {},
   "outputs": [],
   "source": [
    "tableNum = len(wikitables)\n",
    "tableList = np.arange(1, tableNum, 1)"
   ]
  },
  {
   "cell_type": "code",
   "execution_count": 44,
   "metadata": {},
   "outputs": [
    {
     "data": {
      "text/plain": [
       "array([ 1,  2,  3,  4,  5,  6,  7,  8,  9, 10])"
      ]
     },
     "execution_count": 44,
     "metadata": {},
     "output_type": "execute_result"
    }
   ],
   "source": [
    "tableList"
   ]
  },
  {
   "cell_type": "code",
   "execution_count": null,
   "metadata": {},
   "outputs": [],
   "source": []
  }
 ],
 "metadata": {
  "kernelspec": {
   "display_name": "Python 3",
   "language": "python",
   "name": "python3"
  },
  "language_info": {
   "codemirror_mode": {
    "name": "ipython",
    "version": 3
   },
   "file_extension": ".py",
   "mimetype": "text/x-python",
   "name": "python",
   "nbconvert_exporter": "python",
   "pygments_lexer": "ipython3",
   "version": "3.8.2"
  }
 },
 "nbformat": 4,
 "nbformat_minor": 4
}
