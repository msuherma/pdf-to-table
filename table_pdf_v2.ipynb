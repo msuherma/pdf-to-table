{
 "cells": [
  {
   "cell_type": "code",
   "execution_count": 1,
   "metadata": {},
   "outputs": [
    {
     "name": "stdout",
     "output_type": "stream",
     "text": [
      "Collecting camelot-py[cv]\n",
      "  Downloading camelot_py-0.8.2-py3-none-any.whl (42 kB)\n",
      "\u001b[K     |████████████████████████████████| 42 kB 1.3 MB/s eta 0:00:011\n",
      "\u001b[?25hRequirement already satisfied: click>=6.7 in /Users/cakherman/opt/anaconda3/envs/phd/lib/python3.8/site-packages (from camelot-py[cv]) (7.1.2)\n",
      "Requirement already satisfied: numpy>=1.13.3 in /Users/cakherman/opt/anaconda3/envs/phd/lib/python3.8/site-packages (from camelot-py[cv]) (1.19.2)\n",
      "Requirement already satisfied: chardet>=3.0.4 in /Users/cakherman/opt/anaconda3/envs/phd/lib/python3.8/site-packages (from camelot-py[cv]) (3.0.4)\n",
      "Requirement already satisfied: pandas>=0.23.4 in /Users/cakherman/opt/anaconda3/envs/phd/lib/python3.8/site-packages (from camelot-py[cv]) (1.1.3)\n",
      "Requirement already satisfied: click>=6.7 in /Users/cakherman/opt/anaconda3/envs/phd/lib/python3.8/site-packages (from camelot-py[cv]) (7.1.2)\n",
      "Requirement already satisfied: numpy>=1.13.3 in /Users/cakherman/opt/anaconda3/envs/phd/lib/python3.8/site-packages (from camelot-py[cv]) (1.19.2)\n",
      "Requirement already satisfied: chardet>=3.0.4 in /Users/cakherman/opt/anaconda3/envs/phd/lib/python3.8/site-packages (from camelot-py[cv]) (3.0.4)\n",
      "Requirement already satisfied: pandas>=0.23.4 in /Users/cakherman/opt/anaconda3/envs/phd/lib/python3.8/site-packages (from camelot-py[cv]) (1.1.3)\n",
      "Collecting opencv-python>=3.4.2.17\n",
      "  Downloading opencv_python-4.5.1.48-cp38-cp38-macosx_10_13_x86_64.whl (40.3 MB)\n",
      "\u001b[K     |████████████████████████████████| 40.3 MB 3.8 MB/s eta 0:00:013   |████                            | 5.1 MB 5.7 MB/s eta 0:00:07     |███████████▏                    | 14.1 MB 10.3 MB/s eta 0:00:03\n",
      "\u001b[?25hRequirement already satisfied: numpy>=1.13.3 in /Users/cakherman/opt/anaconda3/envs/phd/lib/python3.8/site-packages (from camelot-py[cv]) (1.19.2)\n",
      "Collecting openpyxl>=2.5.8\n",
      "  Downloading openpyxl-3.0.6-py2.py3-none-any.whl (242 kB)\n",
      "\u001b[K     |████████████████████████████████| 242 kB 12.6 MB/s eta 0:00:01\n",
      "\u001b[?25hCollecting et-xmlfile\n",
      "  Downloading et_xmlfile-1.0.1.tar.gz (8.4 kB)\n",
      "Collecting jdcal\n",
      "  Downloading jdcal-1.4.1-py2.py3-none-any.whl (9.5 kB)\n",
      "Requirement already satisfied: python-dateutil>=2.7.3 in /Users/cakherman/opt/anaconda3/envs/phd/lib/python3.8/site-packages (from pandas>=0.23.4->camelot-py[cv]) (2.8.1)\n",
      "Requirement already satisfied: pytz>=2017.2 in /Users/cakherman/opt/anaconda3/envs/phd/lib/python3.8/site-packages (from pandas>=0.23.4->camelot-py[cv]) (2020.4)\n",
      "Requirement already satisfied: numpy>=1.13.3 in /Users/cakherman/opt/anaconda3/envs/phd/lib/python3.8/site-packages (from camelot-py[cv]) (1.19.2)\n",
      "Collecting pdfminer.six>=20200726\n",
      "  Downloading pdfminer.six-20201018-py3-none-any.whl (5.6 MB)\n",
      "\u001b[K     |████████████████████████████████| 5.6 MB 8.9 MB/s eta 0:00:01     |██                              | 368 kB 8.9 MB/s eta 0:00:01\n",
      "\u001b[?25hRequirement already satisfied: chardet>=3.0.4 in /Users/cakherman/opt/anaconda3/envs/phd/lib/python3.8/site-packages (from camelot-py[cv]) (3.0.4)\n",
      "Requirement already satisfied: cryptography in /Users/cakherman/opt/anaconda3/envs/phd/lib/python3.8/site-packages (from pdfminer.six>=20200726->camelot-py[cv]) (3.2.1)\n",
      "Requirement already satisfied: cffi!=1.11.3,>=1.8 in /Users/cakherman/opt/anaconda3/envs/phd/lib/python3.8/site-packages (from cryptography->pdfminer.six>=20200726->camelot-py[cv]) (1.14.0)\n",
      "Requirement already satisfied: six>=1.4.1 in /Users/cakherman/opt/anaconda3/envs/phd/lib/python3.8/site-packages (from cryptography->pdfminer.six>=20200726->camelot-py[cv]) (1.15.0)\n",
      "Requirement already satisfied: pycparser in /Users/cakherman/opt/anaconda3/envs/phd/lib/python3.8/site-packages (from cffi!=1.11.3,>=1.8->cryptography->pdfminer.six>=20200726->camelot-py[cv]) (2.20)\n",
      "Collecting PyPDF2>=1.26.0\n",
      "  Downloading PyPDF2-1.26.0.tar.gz (77 kB)\n",
      "\u001b[K     |████████████████████████████████| 77 kB 3.8 MB/s eta 0:00:011\n",
      "\u001b[?25hRequirement already satisfied: six>=1.4.1 in /Users/cakherman/opt/anaconda3/envs/phd/lib/python3.8/site-packages (from cryptography->pdfminer.six>=20200726->camelot-py[cv]) (1.15.0)\n",
      "Collecting sortedcontainers\n",
      "  Downloading sortedcontainers-2.3.0-py2.py3-none-any.whl (29 kB)\n",
      "Building wheels for collected packages: et-xmlfile, PyPDF2\n",
      "  Building wheel for et-xmlfile (setup.py) ... \u001b[?25ldone\n",
      "\u001b[?25h  Created wheel for et-xmlfile: filename=et_xmlfile-1.0.1-py3-none-any.whl size=8913 sha256=2a6dafc424dc9f05f0f715636484cbd763df6ab31834aef9e9231aaae9c6d261\n",
      "  Stored in directory: /Users/cakherman/Library/Caches/pip/wheels/6e/df/38/abda47b884e3e25f9f9b6430e5ce44c47670758a50c0c51759\n",
      "  Building wheel for PyPDF2 (setup.py) ... \u001b[?25ldone\n",
      "\u001b[?25h  Created wheel for PyPDF2: filename=PyPDF2-1.26.0-py3-none-any.whl size=61084 sha256=0c8db644860c1d8388b3fe9d09f6c8dd41afb96c4f854ce118680a892bf0b6d2\n",
      "  Stored in directory: /Users/cakherman/Library/Caches/pip/wheels/b1/1a/8f/a4c34be976825a2f7948d0fa40907598d69834f8ab5889de11\n",
      "Successfully built et-xmlfile PyPDF2\n",
      "Installing collected packages: sortedcontainers, jdcal, et-xmlfile, PyPDF2, pdfminer.six, openpyxl, opencv-python, camelot-py\n",
      "Successfully installed PyPDF2-1.26.0 camelot-py-0.8.2 et-xmlfile-1.0.1 jdcal-1.4.1 opencv-python-4.5.1.48 openpyxl-3.0.6 pdfminer.six-20201018 sortedcontainers-2.3.0\n"
     ]
    }
   ],
   "source": [
    "!pip install camelot-py[cv]"
   ]
  },
  {
   "cell_type": "code",
   "execution_count": null,
   "metadata": {},
   "outputs": [],
   "source": []
  }
 ],
 "metadata": {
  "kernelspec": {
   "display_name": "Python 3",
   "language": "python",
   "name": "python3"
  },
  "language_info": {
   "codemirror_mode": {
    "name": "ipython",
    "version": 3
   },
   "file_extension": ".py",
   "mimetype": "text/x-python",
   "name": "python",
   "nbconvert_exporter": "python",
   "pygments_lexer": "ipython3",
   "version": "3.8.2"
  }
 },
 "nbformat": 4,
 "nbformat_minor": 4
}
